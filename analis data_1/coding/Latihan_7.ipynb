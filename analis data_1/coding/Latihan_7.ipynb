{
 "cells": [
  {
   "attachments": {},
   "cell_type": "markdown",
   "metadata": {},
   "source": [
    "Muhammad Romadon"
   ]
  },
  {
   "attachments": {},
   "cell_type": "markdown",
   "metadata": {},
   "source": [
    "#### Goals yang saya inginkan mengetahui jenis kendaraan yang sering dipakai oleh penumpang"
   ]
  },
  {
   "attachments": {},
   "cell_type": "markdown",
   "metadata": {},
   "source": [
    "import library"
   ]
  },
  {
   "cell_type": "code",
   "execution_count": 404,
   "metadata": {},
   "outputs": [],
   "source": [
    "import pandas as pd\n",
    "import seaborn as sns\n",
    "import matplotlib.pyplot as plt\n",
    "pd.set_option('display.max_columns',None)\n"
   ]
  },
  {
   "attachments": {},
   "cell_type": "markdown",
   "metadata": {},
   "source": [
    "memanggil data dalam bentuk csv"
   ]
  },
  {
   "cell_type": "code",
   "execution_count": 405,
   "metadata": {},
   "outputs": [],
   "source": [
    "df = pd.read_csv('../data/data-penumpang-bus-transjakarta-desember-2021.csv', sep=',')"
   ]
  },
  {
   "attachments": {},
   "cell_type": "markdown",
   "metadata": {},
   "source": [
    "menampilkan 5 data di atas"
   ]
  },
  {
   "cell_type": "code",
   "execution_count": 406,
   "metadata": {},
   "outputs": [
    {
     "data": {
      "text/html": [
       "<div>\n",
       "<style scoped>\n",
       "    .dataframe tbody tr th:only-of-type {\n",
       "        vertical-align: middle;\n",
       "    }\n",
       "\n",
       "    .dataframe tbody tr th {\n",
       "        vertical-align: top;\n",
       "    }\n",
       "\n",
       "    .dataframe thead th {\n",
       "        text-align: right;\n",
       "    }\n",
       "</style>\n",
       "<table border=\"1\" class=\"dataframe\">\n",
       "  <thead>\n",
       "    <tr style=\"text-align: right;\">\n",
       "      <th></th>\n",
       "      <th>tahun</th>\n",
       "      <th>bulan</th>\n",
       "      <th>jenis</th>\n",
       "      <th>kode_trayek</th>\n",
       "      <th>trayek</th>\n",
       "      <th>jumlah_penumpang</th>\n",
       "    </tr>\n",
       "  </thead>\n",
       "  <tbody>\n",
       "    <tr>\n",
       "      <th>0</th>\n",
       "      <td>2021</td>\n",
       "      <td>12</td>\n",
       "      <td>Mikrotrans</td>\n",
       "      <td>JAK.88</td>\n",
       "      <td>Terminal Tanjung Priok - Ancol Barat</td>\n",
       "      <td>43967</td>\n",
       "    </tr>\n",
       "    <tr>\n",
       "      <th>1</th>\n",
       "      <td>2021</td>\n",
       "      <td>12</td>\n",
       "      <td>Mikrotrans</td>\n",
       "      <td>JAK.85</td>\n",
       "      <td>Bintara - Cipinang Indah</td>\n",
       "      <td>40103</td>\n",
       "    </tr>\n",
       "    <tr>\n",
       "      <th>2</th>\n",
       "      <td>2021</td>\n",
       "      <td>12</td>\n",
       "      <td>Mikrotrans</td>\n",
       "      <td>JAK.84</td>\n",
       "      <td>Terminal Kampung Melayu - Kapin Raya</td>\n",
       "      <td>59193</td>\n",
       "    </tr>\n",
       "    <tr>\n",
       "      <th>3</th>\n",
       "      <td>2021</td>\n",
       "      <td>12</td>\n",
       "      <td>Mikrotrans</td>\n",
       "      <td>JAK.80</td>\n",
       "      <td>Rawa Buaya - Rawa Kompeni</td>\n",
       "      <td>70475</td>\n",
       "    </tr>\n",
       "    <tr>\n",
       "      <th>4</th>\n",
       "      <td>2021</td>\n",
       "      <td>12</td>\n",
       "      <td>Mikrotrans</td>\n",
       "      <td>JAK.77</td>\n",
       "      <td>Tanjung Priok - Jembatan Item</td>\n",
       "      <td>77697</td>\n",
       "    </tr>\n",
       "  </tbody>\n",
       "</table>\n",
       "</div>"
      ],
      "text/plain": [
       "   tahun  bulan       jenis kode_trayek                                trayek  \\\n",
       "0   2021     12  Mikrotrans      JAK.88  Terminal Tanjung Priok - Ancol Barat   \n",
       "1   2021     12  Mikrotrans      JAK.85              Bintara - Cipinang Indah   \n",
       "2   2021     12  Mikrotrans      JAK.84  Terminal Kampung Melayu - Kapin Raya   \n",
       "3   2021     12  Mikrotrans      JAK.80             Rawa Buaya - Rawa Kompeni   \n",
       "4   2021     12  Mikrotrans      JAK.77         Tanjung Priok - Jembatan Item   \n",
       "\n",
       "   jumlah_penumpang  \n",
       "0             43967  \n",
       "1             40103  \n",
       "2             59193  \n",
       "3             70475  \n",
       "4             77697  "
      ]
     },
     "execution_count": 406,
     "metadata": {},
     "output_type": "execute_result"
    }
   ],
   "source": [
    "df.head()"
   ]
  },
  {
   "attachments": {},
   "cell_type": "markdown",
   "metadata": {},
   "source": [
    "Melihat jumlah variabel dan observasi"
   ]
  },
  {
   "cell_type": "code",
   "execution_count": 428,
   "metadata": {},
   "outputs": [
    {
     "data": {
      "text/plain": [
       "(122, 6)"
      ]
     },
     "execution_count": 428,
     "metadata": {},
     "output_type": "execute_result"
    }
   ],
   "source": [
    "df.shape"
   ]
  },
  {
   "attachments": {},
   "cell_type": "markdown",
   "metadata": {},
   "source": [
    "terdapat 122 observasi dan 6 variabel"
   ]
  },
  {
   "attachments": {},
   "cell_type": "markdown",
   "metadata": {},
   "source": [
    "memeriksa apakah nilai dalam suatu data pada variabel df terdapat NaN (Not a Number) atau null"
   ]
  },
  {
   "cell_type": "code",
   "execution_count": 407,
   "metadata": {},
   "outputs": [
    {
     "data": {
      "text/plain": [
       "tahun               0\n",
       "bulan               0\n",
       "jenis               0\n",
       "kode_trayek         0\n",
       "trayek              2\n",
       "jumlah_penumpang    0\n",
       "dtype: int64"
      ]
     },
     "execution_count": 407,
     "metadata": {},
     "output_type": "execute_result"
    }
   ],
   "source": [
    "df.isna().sum()"
   ]
  },
  {
   "cell_type": "code",
   "execution_count": 408,
   "metadata": {},
   "outputs": [
    {
     "data": {
      "text/plain": [
       "tahun               0\n",
       "bulan               0\n",
       "jenis               0\n",
       "kode_trayek         0\n",
       "trayek              2\n",
       "jumlah_penumpang    0\n",
       "dtype: int64"
      ]
     },
     "execution_count": 408,
     "metadata": {},
     "output_type": "execute_result"
    }
   ],
   "source": [
    "df.isnull().sum()"
   ]
  },
  {
   "attachments": {},
   "cell_type": "markdown",
   "metadata": {},
   "source": [
    "di sini terlihat terdapat 2 NaN pda variabel trayek"
   ]
  },
  {
   "cell_type": "code",
   "execution_count": 409,
   "metadata": {},
   "outputs": [
    {
     "data": {
      "text/plain": [
       "0"
      ]
     },
     "execution_count": 409,
     "metadata": {},
     "output_type": "execute_result"
    }
   ],
   "source": [
    "df.duplicated().sum()"
   ]
  },
  {
   "attachments": {},
   "cell_type": "markdown",
   "metadata": {},
   "source": [
    "tidak ada data yang terduplikasi karena nilai yang keluaar adalah 0"
   ]
  },
  {
   "attachments": {},
   "cell_type": "markdown",
   "metadata": {},
   "source": [
    "#### Melihat data yang NaN dengan sebuah library missigno"
   ]
  },
  {
   "cell_type": "code",
   "execution_count": 410,
   "metadata": {},
   "outputs": [
    {
     "data": {
      "text/plain": [
       "<Axes: >"
      ]
     },
     "execution_count": 410,
     "metadata": {},
     "output_type": "execute_result"
    },
    {
     "data": {
      "image/png": "[encoded data removed]",
      "text/plain": [
       "<Figure size 2500x1000 with 2 Axes>"
      ]
     },
     "metadata": {},
     "output_type": "display_data"
    }
   ],
   "source": [
    "import missingno as msno\n",
    "\n",
    "# menampilkan plot missing value\n",
    "msno.matrix(df)\n"
   ]
  },
  {
   "attachments": {},
   "cell_type": "markdown",
   "metadata": {},
   "source": [
    "terlihat ada bagian yang tidak terisi yang telah sebelumnya di cek dengan fungsi isna() dan isnull, hal ini bisa terlihat pada observasi ke 5 pada variabel trayek"
   ]
  },
  {
   "attachments": {},
   "cell_type": "markdown",
   "metadata": {},
   "source": [
    "#### Mengatasi data NaN"
   ]
  },
  {
   "attachments": {},
   "cell_type": "markdown",
   "metadata": {},
   "source": [
    "disini saya menggunakan modus untuk menutupi data yang hilang pada variabel trayek  dengan alasan trayek adalah variabel string "
   ]
  },
  {
   "cell_type": "code",
   "execution_count": 411,
   "metadata": {},
   "outputs": [],
   "source": [
    "df.loc[df[\"trayek\"].isnull(), \"trayek\"] = df[\"trayek\"].mode()[0]"
   ]
  },
  {
   "attachments": {},
   "cell_type": "markdown",
   "metadata": {},
   "source": [
    "menampilkan kembali data dengan variabel df ,apakah sudah terisi yang sebelumnya NaN dengan nilai yang sering muncul(modus)"
   ]
  },
  {
   "cell_type": "code",
   "execution_count": 412,
   "metadata": {},
   "outputs": [
    {
     "data": {
      "text/plain": [
       "<Axes: >"
      ]
     },
     "execution_count": 412,
     "metadata": {},
     "output_type": "execute_result"
    },
    {
     "data": {
      "image/png": "[encoded data removed]",
      "text/plain": [
       "<Figure size 2500x1000 with 2 Axes>"
      ]
     },
     "metadata": {},
     "output_type": "display_data"
    }
   ],
   "source": [
    "msno.matrix(df)"
   ]
  },
  {
   "attachments": {},
   "cell_type": "markdown",
   "metadata": {},
   "source": [
    "cek kembali NaN pada setiap variabel untuk memastikan saat mencari goals yang di inginkan tidak ada datang yang kosong(missing value)"
   ]
  },
  {
   "cell_type": "code",
   "execution_count": 413,
   "metadata": {},
   "outputs": [
    {
     "data": {
      "text/plain": [
       "tahun               0\n",
       "bulan               0\n",
       "jenis               0\n",
       "kode_trayek         0\n",
       "trayek              0\n",
       "jumlah_penumpang    0\n",
       "dtype: int64"
      ]
     },
     "execution_count": 413,
     "metadata": {},
     "output_type": "execute_result"
    }
   ],
   "source": [
    "df.isna().sum()"
   ]
  },
  {
   "attachments": {},
   "cell_type": "markdown",
   "metadata": {},
   "source": [
    "cek tipe data pada masing-masing varibel"
   ]
  },
  {
   "cell_type": "code",
   "execution_count": 414,
   "metadata": {},
   "outputs": [
    {
     "name": "stdout",
     "output_type": "stream",
     "text": [
      "<class 'pandas.core.frame.DataFrame'>\n",
      "RangeIndex: 122 entries, 0 to 121\n",
      "Data columns (total 6 columns):\n",
      " #   Column            Non-Null Count  Dtype \n",
      "---  ------            --------------  ----- \n",
      " 0   tahun             122 non-null    int64 \n",
      " 1   bulan             122 non-null    int64 \n",
      " 2   jenis             122 non-null    object\n",
      " 3   kode_trayek       122 non-null    object\n",
      " 4   trayek            122 non-null    object\n",
      " 5   jumlah_penumpang  122 non-null    int64 \n",
      "dtypes: int64(3), object(3)\n",
      "memory usage: 5.8+ KB\n"
     ]
    }
   ],
   "source": [
    "df.info()"
   ]
  },
  {
   "attachments": {},
   "cell_type": "markdown",
   "metadata": {},
   "source": [
    "Melihat outlier pada variabel yang bertipe float,int"
   ]
  },
  {
   "cell_type": "code",
   "execution_count": 416,
   "metadata": {},
   "outputs": [
    {
     "data": {
      "image/png": "[encoded data removed]",
      "text/plain": [
       "<Figure size 1200x1400 with 16 Axes>"
      ]
     },
     "metadata": {},
     "output_type": "display_data"
    }
   ],
   "source": [
    "df_to_plot = df.select_dtypes(include=['float',int])\n",
    "df_to_plot.plot(subplots=True, layout=(4,4), kind='box', figsize=(12,14))\n",
    "plt.subplots_adjust(wspace=0.5)"
   ]
  },
  {
   "attachments": {},
   "cell_type": "markdown",
   "metadata": {},
   "source": [
    "outlier hanya terdapat pada variabel jumlah_penumpang"
   ]
  },
  {
   "attachments": {},
   "cell_type": "markdown",
   "metadata": {},
   "source": [
    "#### melihat berapa banyak jenis kendaraan apa yang menjadi pilihan penumpang"
   ]
  },
  {
   "cell_type": "code",
   "execution_count": 430,
   "metadata": {},
   "outputs": [
    {
     "data": {
      "text/plain": [
       "Text(0.5, 1.0, 'berapa persen jumlah penumpang terhadap jenis kendaraan')"
      ]
     },
     "execution_count": 430,
     "metadata": {},
     "output_type": "execute_result"
    },
    {
     "data": {
      "image/png": "[encoded data removed]",
      "text/plain": [
       "<Figure size 640x480 with 1 Axes>"
      ]
     },
     "metadata": {},
     "output_type": "display_data"
    }
   ],
   "source": [
    "# Group the DataFrame by 'jenis' and calculate the count of observations for each group\n",
    "df_counts = df.groupby('jenis')['jumlah_penumpang'].agg(['count']).reset_index()\n",
    "\n",
    "# Create the pie chart\n",
    "fig, ax = plt.subplots()\n",
    "ax.pie(df_counts['count'], labels=df_counts['jenis'], autopct='%1.1f%%')\n",
    "\n",
    "# Add the count of observations as text on the chart\n",
    "total_obs = df_counts['count'].sum()\n",
    "ax.text(x=1.05, y=0.05, s=f'Total Observasi: {total_obs}', ha='right', va='bottom', transform=ax.transAxes)\n",
    "\n",
    "plt.title('berapa persen jumlah penumpang terhadap jenis kendaraan')"
   ]
  },
  {
   "attachments": {},
   "cell_type": "markdown",
   "metadata": {},
   "source": [
    "pada data ini total observasi sebanyak 122, dengan kendaraan BRT,Mikrotrans,dan Angkutan umum. bisa lihat pada diagram pie diurutan pertama Mikrotrans menjadi pilihan paling banyak yang di pilih oleh penumpang dengan persentase sebanayak 59.0%,\n",
    "lalu pada uruta kedua Angkutan Umum Integrasi menjadi pilihan kedua yang paling banyak di pilih oleh penumpang dengan persentase sebanyak 30.3%, dan urutan terakhir BRT menjadi kendaraan yang paling banyak dipakai penumpang dengan persentase 10.7% "
   ]
  },
  {
   "cell_type": "code",
   "execution_count": 419,
   "metadata": {},
   "outputs": [
    {
     "data": {
      "text/plain": [
       "Cililitan - Condet via Kayu Manis       4\n",
       "Terminal Tanjung Priok - Ancol Barat    1\n",
       "Roxy Mas - Karet                        1\n",
       "Joglo - Blok M                          1\n",
       "Bintaro - Blok M                        1\n",
       "                                       ..\n",
       "Pulo Gadung - Kota                      1\n",
       "Rawamangun - Klender                    1\n",
       "Pangkalan  Jati - Rawamangun            1\n",
       "Cilangkap - Cililitan                   1\n",
       "Tanjung Priok - Senen via Taman  BMW    1\n",
       "Name: trayek, Length: 119, dtype: int64"
      ]
     },
     "execution_count": 419,
     "metadata": {},
     "output_type": "execute_result"
    }
   ],
   "source": [
    "df[\"trayek\"].value_counts()"
   ]
  },
  {
   "attachments": {},
   "cell_type": "markdown",
   "metadata": {},
   "source": [
    "pada variabel trayek menujukkan Cililitan - Condet via Kayu Manis sebagai lokasi yang  laing banyak ditujuh"
   ]
  },
  {
   "cell_type": "code",
   "execution_count": 421,
   "metadata": {},
   "outputs": [
    {
     "data": {
      "text/html": [
       "<div>\n",
       "<style scoped>\n",
       "    .dataframe tbody tr th:only-of-type {\n",
       "        vertical-align: middle;\n",
       "    }\n",
       "\n",
       "    .dataframe tbody tr th {\n",
       "        vertical-align: top;\n",
       "    }\n",
       "\n",
       "    .dataframe thead th {\n",
       "        text-align: right;\n",
       "    }\n",
       "</style>\n",
       "<table border=\"1\" class=\"dataframe\">\n",
       "  <thead>\n",
       "    <tr style=\"text-align: right;\">\n",
       "      <th></th>\n",
       "      <th>tahun</th>\n",
       "      <th>bulan</th>\n",
       "      <th>jumlah_penumpang</th>\n",
       "    </tr>\n",
       "  </thead>\n",
       "  <tbody>\n",
       "    <tr>\n",
       "      <th>count</th>\n",
       "      <td>122.0</td>\n",
       "      <td>122.0</td>\n",
       "      <td>1.220000e+02</td>\n",
       "    </tr>\n",
       "    <tr>\n",
       "      <th>mean</th>\n",
       "      <td>2021.0</td>\n",
       "      <td>12.0</td>\n",
       "      <td>9.297152e+04</td>\n",
       "    </tr>\n",
       "    <tr>\n",
       "      <th>std</th>\n",
       "      <td>0.0</td>\n",
       "      <td>0.0</td>\n",
       "      <td>1.580677e+05</td>\n",
       "    </tr>\n",
       "    <tr>\n",
       "      <th>min</th>\n",
       "      <td>2021.0</td>\n",
       "      <td>12.0</td>\n",
       "      <td>0.000000e+00</td>\n",
       "    </tr>\n",
       "    <tr>\n",
       "      <th>25%</th>\n",
       "      <td>2021.0</td>\n",
       "      <td>12.0</td>\n",
       "      <td>0.000000e+00</td>\n",
       "    </tr>\n",
       "    <tr>\n",
       "      <th>50%</th>\n",
       "      <td>2021.0</td>\n",
       "      <td>12.0</td>\n",
       "      <td>6.125050e+04</td>\n",
       "    </tr>\n",
       "    <tr>\n",
       "      <th>75%</th>\n",
       "      <td>2021.0</td>\n",
       "      <td>12.0</td>\n",
       "      <td>8.675675e+04</td>\n",
       "    </tr>\n",
       "    <tr>\n",
       "      <th>max</th>\n",
       "      <td>2021.0</td>\n",
       "      <td>12.0</td>\n",
       "      <td>1.131439e+06</td>\n",
       "    </tr>\n",
       "  </tbody>\n",
       "</table>\n",
       "</div>"
      ],
      "text/plain": [
       "        tahun  bulan  jumlah_penumpang\n",
       "count   122.0  122.0      1.220000e+02\n",
       "mean   2021.0   12.0      9.297152e+04\n",
       "std       0.0    0.0      1.580677e+05\n",
       "min    2021.0   12.0      0.000000e+00\n",
       "25%    2021.0   12.0      0.000000e+00\n",
       "50%    2021.0   12.0      6.125050e+04\n",
       "75%    2021.0   12.0      8.675675e+04\n",
       "max    2021.0   12.0      1.131439e+06"
      ]
     },
     "execution_count": 421,
     "metadata": {},
     "output_type": "execute_result"
    }
   ],
   "source": [
    "df.describe()"
   ]
  },
  {
   "attachments": {},
   "cell_type": "markdown",
   "metadata": {},
   "source": [
    "Rata-rata jumlah_penumpang selama periode tersebut adalah 92.971,52, dengan standar deviasi sebesar 158.067,7. Jumlah penumpang minimum adalah 0 dan maksimum mencapai 1.131.439. Quartil pertama (25%) adalah 0, sedangkan quartil ketiga (75%) adalah 86.756,75."
   ]
  },
  {
   "cell_type": "code",
   "execution_count": 422,
   "metadata": {},
   "outputs": [
    {
     "name": "stdout",
     "output_type": "stream",
     "text": [
      "                 sum_sq     df          F    PR(>F)\n",
      "C(trayek)  3.018772e+12  118.0  17.206412  0.018473\n",
      "Residual   4.460455e+09    3.0        NaN       NaN\n"
     ]
    }
   ],
   "source": [
    "import statsmodels.api as sm\n",
    "from statsmodels.formula.api import ols\n",
    "\n",
    "model = ols('jumlah_penumpang ~ C(trayek)', data=df).fit()\n",
    "anova_table = sm.stats.anova_lm(model, typ=2)\n",
    "print(anova_table)\n"
   ]
  },
  {
   "attachments": {},
   "cell_type": "markdown",
   "metadata": {},
   "source": [
    "Pada hasil uji ANOVA tersebut, kita dapat melihat adanya nilai F sebesar 17.206 dengan p-value sebesar 0.018, yang menunjukkan bahwa terdapat perbedaan signifikan antara setidaknya dua kelompok trayek dalam hal jumlah penumpang. Dengan demikian, kita dapat menolak hipotesis nol bahwa tidak ada perbedaan signifikan antara kelompok trayek dalam hal jumlah penumpang."
   ]
  },
  {
   "attachments": {},
   "cell_type": "markdown",
   "metadata": {},
   "source": [
    "skewnes"
   ]
  },
  {
   "cell_type": "code",
   "execution_count": 438,
   "metadata": {},
   "outputs": [
    {
     "name": "stderr",
     "output_type": "stream",
     "text": [
      "C:\\Users\\Lenovo\\AppData\\Local\\Temp\\ipykernel_17236\\1665899112.py:1: FutureWarning: The default value of numeric_only in DataFrame.skew is deprecated. In a future version, it will default to False. In addition, specifying 'numeric_only=None' is deprecated. Select only valid columns or specify the value of numeric_only to silence this warning.\n",
      "  df.skew()\n"
     ]
    },
    {
     "data": {
      "text/plain": [
       "tahun               0.000000\n",
       "bulan               0.000000\n",
       "jumlah_penumpang    3.884609\n",
       "dtype: float64"
      ]
     },
     "execution_count": 438,
     "metadata": {},
     "output_type": "execute_result"
    }
   ],
   "source": [
    "df.skew()"
   ]
  },
  {
   "attachments": {},
   "cell_type": "markdown",
   "metadata": {},
   "source": [
    "pada variabel tahun dan bulan dari data tersebut yang menghasilkan 0 menunjukkan bahwa di anggap simertris(tidak condong ke kanan atau kiri)\n",
    "sedangkan pada variabel jumlah_penumpang dengan nilai 3.884609 cenderung condong ke kanan"
   ]
  },
  {
   "cell_type": "code",
   "execution_count": 431,
   "metadata": {},
   "outputs": [
    {
     "data": {
      "text/plain": [
       "3.8846085816937186"
      ]
     },
     "execution_count": 431,
     "metadata": {},
     "output_type": "execute_result"
    }
   ],
   "source": [
    "df[\"jumlah_penumpang\"].skew()"
   ]
  },
  {
   "cell_type": "code",
   "execution_count": 432,
   "metadata": {},
   "outputs": [
    {
     "data": {
      "text/plain": [
       "0"
      ]
     },
     "execution_count": 432,
     "metadata": {},
     "output_type": "execute_result"
    }
   ],
   "source": [
    "df[\"tahun\"].skew()"
   ]
  },
  {
   "cell_type": "code",
   "execution_count": 433,
   "metadata": {},
   "outputs": [
    {
     "data": {
      "text/plain": [
       "0"
      ]
     },
     "execution_count": 433,
     "metadata": {},
     "output_type": "execute_result"
    }
   ],
   "source": [
    "df[\"bulan\"].skew()"
   ]
  },
  {
   "attachments": {},
   "cell_type": "markdown",
   "metadata": {},
   "source": [
    "kurtosis"
   ]
  },
  {
   "cell_type": "code",
   "execution_count": 429,
   "metadata": {},
   "outputs": [
    {
     "name": "stderr",
     "output_type": "stream",
     "text": [
      "C:\\Users\\Lenovo\\AppData\\Local\\Temp\\ipykernel_17236\\1257127604.py:1: FutureWarning: The default value of numeric_only in DataFrame.kurt is deprecated. In a future version, it will default to False. In addition, specifying 'numeric_only=None' is deprecated. Select only valid columns or specify the value of numeric_only to silence this warning.\n",
      "  df.kurt()\n"
     ]
    },
    {
     "data": {
      "text/plain": [
       "tahun                0.00000\n",
       "bulan                0.00000\n",
       "jumlah_penumpang    18.83038\n",
       "dtype: float64"
      ]
     },
     "execution_count": 429,
     "metadata": {},
     "output_type": "execute_result"
    }
   ],
   "source": [
    "df.kurt()"
   ]
  },
  {
   "attachments": {},
   "cell_type": "markdown",
   "metadata": {},
   "source": [
    "Dalam hal ini, nilai kurtosis jumlah_penumpang adalah 18.83038, yang mengindikasikan bahwa distribusi data cenderung sangat curam."
   ]
  },
  {
   "cell_type": "code",
   "execution_count": 435,
   "metadata": {},
   "outputs": [
    {
     "data": {
      "text/plain": [
       "18.83038006865664"
      ]
     },
     "execution_count": 435,
     "metadata": {},
     "output_type": "execute_result"
    }
   ],
   "source": [
    "df[\"jumlah_penumpang\"].kurt()"
   ]
  },
  {
   "cell_type": "code",
   "execution_count": 436,
   "metadata": {},
   "outputs": [
    {
     "data": {
      "text/plain": [
       "0"
      ]
     },
     "execution_count": 436,
     "metadata": {},
     "output_type": "execute_result"
    }
   ],
   "source": [
    "df[\"bulan\"].kurt()"
   ]
  },
  {
   "cell_type": "code",
   "execution_count": 437,
   "metadata": {},
   "outputs": [
    {
     "data": {
      "text/plain": [
       "0"
      ]
     },
     "execution_count": 437,
     "metadata": {},
     "output_type": "execute_result"
    }
   ],
   "source": [
    "df[\"tahun\"].kurt()"
   ]
  }
 ],
 "metadata": {
  "kernelspec": {
   "display_name": "my_env",
   "language": "python",
   "name": "my_env"
  },
  "language_info": {
   "codemirror_mode": {
    "name": "ipython",
    "version": 3
   },
   "file_extension": ".py",
   "mimetype": "text/x-python",
   "name": "python",
   "nbconvert_exporter": "python",
   "pygments_lexer": "ipython3",
   "version": "3.10.4"
  },
  "orig_nbformat": 4
 },
 "nbformat": 4,
 "nbformat_minor": 2
}
